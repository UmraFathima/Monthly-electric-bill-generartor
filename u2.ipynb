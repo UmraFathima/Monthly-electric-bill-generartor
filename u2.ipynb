{
 "cells": [
  {
   "cell_type": "code",
   "execution_count": 10,
   "id": "a2650625-4607-4aac-993b-34803eb47841",
   "metadata": {},
   "outputs": [],
   "source": [
    "from datetime import datetime\n",
    "from collections import defaultdict\n",
    "from calendar import monthrange\n",
    "from pprint import pprint\n",
    "\n",
    "def formatedate(date_str):\n",
    "    # return datetime.strptime(date_str, \"%m-%d-%Y\")\n",
    "    return datetime.strptime(date_str, \"%Y-%m-%d\")\n",
    "    "
   ]
  },
  {
   "cell_type": "code",
   "execution_count": 11,
   "id": "0b1ee590-1ace-4646-ba03-2cd92ec33edc",
   "metadata": {},
   "outputs": [],
   "source": [
    "def get_mRange(target_month):\n",
    "    year, month = map(int, target_month.split(\"-\"))\n",
    "    start = datetime(year, month, 1)\n",
    "    end = datetime(year, month, monthrange(year, month)[1])\n",
    "    return start, end\n",
    "# a=get_mRange(\"2024-11\")\n",
    "# print(a)\n"
   ]
  },
  {
   "cell_type": "code",
   "execution_count": 14,
   "id": "ea7284f4-29e2-46b1-b185-756201ee09eb",
   "metadata": {},
   "outputs": [],
   "source": [
    "def get_oVdays(start1, end1, start2, end2):\n",
    "    lateStart = max(start1, start2)\n",
    "    earlyEnd = min(end1, end2)\n",
    "    dta = (earlyEnd - lateStart).days + 1\n",
    "    return max(0, dta), lateStart, earlyEnd\n",
    "# b=get_oVdays(start1 = datetime(2024, 10, 18),end1 = datetime(2024, 10, 31),start2 = datetime(2024, 11, 1),end2 = datetime(2024, 11, 30))\n",
    "# print(b)"
   ]
  },
  {
   "cell_type": "code",
   "execution_count": 20,
   "id": "b40cc941-a5b9-4590-bfc1-2fe47227e547",
   "metadata": {},
   "outputs": [],
   "source": [
    "def generate_monthly_bill(item_list, target_month):\n",
    "    month_start, month_end = get_mRange(target_month)\n",
    "    groups = defaultdict(lambda: {\"qty\": 0, \"amount\": 0.0})\n",
    "\n",
    "    for item in item_list:\n",
    "        start_date = formatedate(item[\"start_date\"])\n",
    "        stop_date = formatedate(item[\"stop_date\"])\n",
    "        rate = float(item[\"rate\"])\n",
    "        qty = int(item[\"qty\"])\n",
    "\n",
    "        overlap_days, billing_start, billing_end = get_oVdays(start_date, stop_date, month_start, month_end)\n",
    "        if overlap_days == 0:\n",
    "            continue\n",
    "\n",
    "        days_in_month = (month_end - month_start).days + 1\n",
    "        proportion = overlap_days / days_in_month\n",
    "        amount = round(rate * qty * proportion, 2)\n",
    "\n",
    "        billing_period = f\"{billing_start.date()} to {billing_end.date()}\"\n",
    "        key = (item[\"item_code\"], rate, billing_period)\n",
    "\n",
    "        groups[key][\"qty\"] += qty\n",
    "        groups[key][\"amount\"] += amount\n",
    "    line_items = []\n",
    "    total_revenue = 0.0\n",
    "\n",
    "    for (item_code, rate, billing_period), values in groups.items():\n",
    "        amount = round(values[\"amount\"], 2)\n",
    "        total_revenue += amount\n",
    "        line_items.append({\n",
    "            \"item_code\": item_code,\n",
    "            \"rate\": rate,\n",
    "            \"qty\": values[\"qty\"],\n",
    "            \"amount\": amount,\n",
    "            \"billing_period\": billing_period\n",
    "        })\n",
    "\n",
    "    return {\n",
    "        \"line_items\": line_items,\n",
    "        \"total_revenue\": round(total_revenue, 2)\n",
    "    }"
   ]
  },
  {
   "cell_type": "code",
   "execution_count": 23,
   "id": "d8079d37-0068-48c4-bac4-229c77e178b9",
   "metadata": {},
   "outputs": [
    {
     "name": "stdout",
     "output_type": "stream",
     "text": [
      "[{'idx': 1, 'item_code': 'Executive Desk (4*2)', 'qty': 10, 'rate': '1000', 'amount': '10000', 'start_date': '2023-11-01', 'stop_date': '2024-10-17'}, {'idx': 2, 'item_code': 'Executive Desk (4*2)', 'qty': 10, 'rate': '1080', 'amount': '10800', 'start_date': '2024-10-18', 'stop_date': '2024-10-31'}, {'idx': 3, 'item_code': 'Executive Desk (4*2)', 'qty': 15, 'rate': '1080', 'amount': '16200', 'start_date': '2024-11-01', 'stop_date': '2025-10-31'}, {'idx': 4, 'item_code': 'Executive Table (6*3)', 'qty': 1, 'rate': '3000', 'amount': '3000', 'start_date': '2024-02-01', 'stop_date': '2024-11-30'}, {'idx': 5, 'item_code': 'Executive Chair', 'qty': 30, 'rate': '400', 'amount': '12000', 'start_date': '2023-11-01', 'stop_date': '2024-10-17'}, {'idx': 6, 'item_code': 'Executive Chair', 'qty': 30, 'rate': '450', 'amount': '13500', 'start_date': '2024-10-18', 'stop_date': '2024-10-31'}, {'idx': 7, 'item_code': 'Executive Chair', 'qty': 35, 'rate': '450', 'amount': '15750', 'start_date': '2024-11-01', 'stop_date': '2025-10-31'}]\n"
     ]
    }
   ],
   "source": [
    "item_list = [\n",
    "    {\"idx\": 1, \"item_code\": \"Executive Desk (4*2)\", \"qty\": 10, \"rate\": \"1000\", \"amount\": \"10000\", \"start_date\": \"2023-11-01\", \"stop_date\": \"2024-10-17\"},\n",
    "    {\"idx\": 2, \"item_code\": \"Executive Desk (4*2)\", \"qty\": 10, \"rate\": \"1080\", \"amount\": \"10800\", \"start_date\": \"2024-10-18\", \"stop_date\": \"2024-10-31\"},\n",
    "    {\"idx\": 3, \"item_code\": \"Executive Desk (4*2)\", \"qty\": 15, \"rate\": \"1080\", \"amount\": \"16200\", \"start_date\": \"2024-11-01\", \"stop_date\": \"2025-10-31\"},\n",
    "    {\"idx\": 4, \"item_code\": \"Executive Table (6*3)\", \"qty\": 1, \"rate\": \"3000\", \"amount\": \"3000\", \"start_date\": \"2024-02-01\", \"stop_date\": \"2024-11-30\"},\n",
    "    {\"idx\": 5, \"item_code\": \"Executive Chair\", \"qty\": 30, \"rate\": \"400\", \"amount\": \"12000\", \"start_date\": \"2023-11-01\", \"stop_date\": \"2024-10-17\"},\n",
    "    {\"idx\": 6, \"item_code\": \"Executive Chair\", \"qty\": 30, \"rate\": \"450\", \"amount\": \"13500\", \"start_date\": \"2024-10-18\", \"stop_date\": \"2024-10-31\"},\n",
    "    {\"idx\": 7, \"item_code\": \"Executive Chair\", \"qty\": 35, \"rate\": \"450\", \"amount\": \"15750\", \"start_date\": \"2024-11-01\", \"stop_date\": \"2025-10-31\"}\n",
    "]\n",
    "\n",
    "# print(item_list)\n",
    "\n"
   ]
  },
  {
   "cell_type": "code",
   "execution_count": 17,
   "id": "285dd4d7-5880-4f4b-a441-a8ea6a198e8a",
   "metadata": {},
   "outputs": [
    {
     "name": "stdout",
     "output_type": "stream",
     "text": [
      "{'line_items': [{'amount': 16200.0,\n",
      "                 'billing_period': '2024-11-01 to 2024-11-30',\n",
      "                 'item_code': 'Executive Desk (4*2)',\n",
      "                 'qty': 15,\n",
      "                 'rate': 1080.0},\n",
      "                {'amount': 3000.0,\n",
      "                 'billing_period': '2024-11-01 to 2024-11-30',\n",
      "                 'item_code': 'Executive Table (6*3)',\n",
      "                 'qty': 1,\n",
      "                 'rate': 3000.0},\n",
      "                {'amount': 15750.0,\n",
      "                 'billing_period': '2024-11-01 to 2024-11-30',\n",
      "                 'item_code': 'Executive Chair',\n",
      "                 'qty': 35,\n",
      "                 'rate': 450.0}],\n",
      " 'total_revenue': 34950.0}\n"
     ]
    }
   ],
   "source": [
    "result = generate_monthly_bill(item_list, \"2024-11\")\n",
    "pprint(result)"
   ]
  },
  {
   "cell_type": "code",
   "execution_count": 24,
   "id": "5554ddc3-94e5-4cee-a1bd-c758e45a0062",
   "metadata": {},
   "outputs": [
    {
     "name": "stdout",
     "output_type": "stream",
     "text": [
      "{'line_items': [{'amount': 16200.0,\n",
      "                 'billing_period': '2024-11-01 to 2024-11-30',\n",
      "                 'item_code': 'Executive Desk (4*2)',\n",
      "                 'qty': 15,\n",
      "                 'rate': 1080.0},\n",
      "                {'amount': 3000.0,\n",
      "                 'billing_period': '2024-11-01 to 2024-11-30',\n",
      "                 'item_code': 'Executive Table (6*3)',\n",
      "                 'qty': 1,\n",
      "                 'rate': 3000.0},\n",
      "                {'amount': 15750.0,\n",
      "                 'billing_period': '2024-11-01 to 2024-11-30',\n",
      "                 'item_code': 'Executive Chair',\n",
      "                 'qty': 35,\n",
      "                 'rate': 450.0}],\n",
      " 'total_revenue': 34950.0}\n"
     ]
    }
   ],
   "source": [
    "from datetime import datetime\n",
    "from collections import defaultdict\n",
    "from calendar import monthrange\n",
    "from pprint import pprint\n",
    "\n",
    "def formatedate(date_str):\n",
    "    # return datetime.strptime(date_str, \"%m-%d-%Y\")\n",
    "    return datetime.strptime(date_str, \"%Y-%m-%d\")\n",
    "def get_mRange(target_month):\n",
    "    year, month = map(int, target_month.split(\"-\"))\n",
    "    start = datetime(year, month, 1)\n",
    "    end = datetime(year, month, monthrange(year, month)[1])\n",
    "    return start, end\n",
    "# a=get_mRange(\"2024-11\")\n",
    "# print(a)\n",
    "def get_oVdays(start1, end1, start2, end2):\n",
    "    lateStart = max(start1, start2)\n",
    "    earlyEnd = min(end1, end2)\n",
    "    dta = (earlyEnd - lateStart).days + 1\n",
    "    return max(0, dta), lateStart, earlyEnd\n",
    "# b=get_oVdays(start1 = datetime(2024, 10, 18),end1 = datetime(2024, 10, 31),start2 = datetime(2024, 11, 1),end2 = datetime(2024, 11, 30))\n",
    "# print(b)\n",
    "def generate_monthly_bill(item_list, target_month):\n",
    "    month_start, month_end = get_mRange(target_month)\n",
    "    groups = defaultdict(lambda: {\"qty\": 0, \"amount\": 0.0})\n",
    "\n",
    "    for item in item_list:\n",
    "        start_date = formatedate(item[\"start_date\"])\n",
    "        stop_date = formatedate(item[\"stop_date\"])\n",
    "        rate = float(item[\"rate\"])\n",
    "        qty = int(item[\"qty\"])\n",
    "\n",
    "        overlap_days, billing_start, billing_end = get_oVdays(start_date, stop_date, month_start, month_end)\n",
    "        if overlap_days == 0:\n",
    "            continue\n",
    "\n",
    "        days_in_month = (month_end - month_start).days + 1\n",
    "        proportion = overlap_days / days_in_month\n",
    "        amount = round(rate * qty * proportion, 2)\n",
    "\n",
    "        billing_period = f\"{billing_start.date()} to {billing_end.date()}\"\n",
    "        key = (item[\"item_code\"], rate, billing_period)\n",
    "\n",
    "        groups[key][\"qty\"] += qty\n",
    "        groups[key][\"amount\"] += amount\n",
    "    line_items = []\n",
    "    total_revenue = 0.0\n",
    "\n",
    "    for (item_code, rate, billing_period), values in groups.items():\n",
    "        amount = round(values[\"amount\"], 2)\n",
    "        total_revenue += amount\n",
    "        line_items.append({\n",
    "            \"item_code\": item_code,\n",
    "            \"rate\": rate,\n",
    "            \"qty\": values[\"qty\"],\n",
    "            \"amount\": amount,\n",
    "            \"billing_period\": billing_period\n",
    "        })\n",
    "\n",
    "    return {\n",
    "        \"line_items\": line_items,\n",
    "        \"total_revenue\": round(total_revenue, 2)\n",
    "    }\n",
    "item_list = [\n",
    "    {\"idx\": 1, \"item_code\": \"Executive Desk (4*2)\", \"qty\": 10, \"rate\": \"1000\", \"amount\": \"10000\", \"start_date\": \"2023-11-01\", \"stop_date\": \"2024-10-17\"},\n",
    "    {\"idx\": 2, \"item_code\": \"Executive Desk (4*2)\", \"qty\": 10, \"rate\": \"1080\", \"amount\": \"10800\", \"start_date\": \"2024-10-18\", \"stop_date\": \"2024-10-31\"},\n",
    "    {\"idx\": 3, \"item_code\": \"Executive Desk (4*2)\", \"qty\": 15, \"rate\": \"1080\", \"amount\": \"16200\", \"start_date\": \"2024-11-01\", \"stop_date\": \"2025-10-31\"},\n",
    "    {\"idx\": 4, \"item_code\": \"Executive Table (6*3)\", \"qty\": 1, \"rate\": \"3000\", \"amount\": \"3000\", \"start_date\": \"2024-02-01\", \"stop_date\": \"2024-11-30\"},\n",
    "    {\"idx\": 5, \"item_code\": \"Executive Chair\", \"qty\": 30, \"rate\": \"400\", \"amount\": \"12000\", \"start_date\": \"2023-11-01\", \"stop_date\": \"2024-10-17\"},\n",
    "    {\"idx\": 6, \"item_code\": \"Executive Chair\", \"qty\": 30, \"rate\": \"450\", \"amount\": \"13500\", \"start_date\": \"2024-10-18\", \"stop_date\": \"2024-10-31\"},\n",
    "    {\"idx\": 7, \"item_code\": \"Executive Chair\", \"qty\": 35, \"rate\": \"450\", \"amount\": \"15750\", \"start_date\": \"2024-11-01\", \"stop_date\": \"2025-10-31\"}\n",
    "]\n",
    "\n",
    "# print(item_list)\n",
    "result = generate_monthly_bill(item_list, \"2024-11\")\n",
    "pprint(result)\n"
   ]
  },
  {
   "cell_type": "code",
   "execution_count": null,
   "id": "64738942-1530-467b-987f-84010fe1085e",
   "metadata": {},
   "outputs": [],
   "source": []
  }
 ],
 "metadata": {
  "kernelspec": {
   "display_name": "Python 3 (ipykernel)",
   "language": "python",
   "name": "python3"
  },
  "language_info": {
   "codemirror_mode": {
    "name": "ipython",
    "version": 3
   },
   "file_extension": ".py",
   "mimetype": "text/x-python",
   "name": "python",
   "nbconvert_exporter": "python",
   "pygments_lexer": "ipython3",
   "version": "3.12.0"
  }
 },
 "nbformat": 4,
 "nbformat_minor": 5
}
